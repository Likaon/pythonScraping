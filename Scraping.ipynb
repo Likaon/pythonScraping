{
 "cells": [
  {
   "cell_type": "code",
   "execution_count": 1,
   "metadata": {},
   "outputs": [],
   "source": [
    "import requests\n",
    "from bs4 import BeautifulSoup\n",
    "import pandas as pd"
   ]
  },
  {
   "cell_type": "code",
   "execution_count": 34,
   "metadata": {},
   "outputs": [],
   "source": [
    "### Alimentar uma variavel com o conteudo de uma pagina\n",
    "pag = requests.get('https://statusinvest.com.br/acoes/cgas5')"
   ]
  },
  {
   "cell_type": "code",
   "execution_count": 35,
   "metadata": {},
   "outputs": [
    {
     "name": "stdout",
     "output_type": "stream",
     "text": [
      "Requisição bem sucedida!\n"
     ]
    }
   ],
   "source": [
    "### Status code - tem como resposta se a requição a pagina foi bem sucedida\n",
    "### content - é o metodo que acessa o conteudo da pagina\n",
    "if pag.status_code == 200:\n",
    "   print('Requisição bem sucedida!')\n",
    "   content = pag.content"
   ]
  },
  {
   "cell_type": "code",
   "execution_count": 36,
   "metadata": {},
   "outputs": [],
   "source": [
    "### cont - objeto que contém elementos da página\n",
    "cont = BeautifulSoup(content, 'html.parser')"
   ]
  },
  {
   "cell_type": "code",
   "execution_count": 37,
   "metadata": {},
   "outputs": [],
   "source": [
    "### objeto que contem os dados que quero obter da página\n",
    "table = cont.findAll(name='strong')"
   ]
  },
  {
   "cell_type": "code",
   "execution_count": 38,
   "metadata": {},
   "outputs": [
    {
     "data": {
      "text/plain": [
       "[<strong class=\"value\">161,90</strong>,\n",
       " <strong class=\"value\">59,61</strong>,\n",
       " <strong class=\"value\">244,34</strong>,\n",
       " <strong class=\"value\">10,72</strong>,\n",
       " <strong class=\"value\">145,19%</strong>,\n",
       " <strong class=\"value\">PNA</strong>,\n",
       " <strong class=\"value\">--</strong>,\n",
       " <strong class=\"value\">780.758,47</strong>,\n",
       " <strong class=\"fw-700\">IBOV</strong>,\n",
       " <strong class=\"fw-700\">IBOV</strong>,\n",
       " <strong class=\"value\">0,000</strong>,\n",
       " <strong class=\"fw-700\">OPÇÕES</strong>,\n",
       " <strong class=\"value mr-1\">0</strong>,\n",
       " <strong class=\"value\">41,30</strong>,\n",
       " <strong class=\"value\">15,69</strong>,\n",
       " <strong class=\"value\">8,54</strong>,\n",
       " <strong class=\"value\">9,87</strong>,\n",
       " <strong class=\"value\">2,54</strong>,\n",
       " <strong class=\"value\">-</strong>,\n",
       " <strong class=\"value\">-</strong>,\n",
       " <strong class=\"value\">2,26</strong>,\n",
       " <strong class=\"value\">-1.354,74</strong>,\n",
       " <strong class=\"value\">-3,79</strong>,\n",
       " <strong class=\"value\">32,71%</strong>,\n",
       " <strong class=\"value\">26,41%</strong>,\n",
       " <strong class=\"value\">22,85%</strong>,\n",
       " <strong class=\"value\">14,37%</strong>,\n",
       " <strong class=\"value\">1,13</strong>,\n",
       " <strong class=\"value\">263,17%</strong>,\n",
       " <strong class=\"value\">16,18%</strong>,\n",
       " <strong class=\"value\">26,85%</strong>,\n",
       " <strong class=\"value\">10,32</strong>,\n",
       " <strong class=\"value\">3,92</strong>,\n",
       " <strong class=\"value\">8,01</strong>,\n",
       " <strong class=\"value\">1,66</strong>,\n",
       " <strong class=\"value\">1,91</strong>,\n",
       " <strong class=\"value\">0,06</strong>,\n",
       " <strong class=\"value\">0,94</strong>,\n",
       " <strong class=\"value\">0,99</strong>,\n",
       " <strong class=\"value\">7,60 %</strong>,\n",
       " <strong class=\"value\">14,36 %</strong>,\n",
       " <strong class=\"value\"> </strong>,\n",
       " <strong class=\"fw-900 d-xs-block d-sm-inline-block\">20/04/2020</strong>,\n",
       " <strong class=\"m-md-0 mb-md-1 value\">1,79</strong>,\n",
       " <strong class=\"m-md-0 mb-md-1 value\">1,07</strong>,\n",
       " <strong class=\"m-md-0 mb-md-1 value\">200</strong>,\n",
       " <strong class=\"value mb-0 mb-md-1 mt-0 mt-md-1\">32.014</strong>,\n",
       " <strong class=\"value\">0,0858</strong>,\n",
       " <strong class=\"value\">1,1042</strong>,\n",
       " <strong class=\"value v-align-middle\">1.187,05%</strong>,\n",
       " <strong class=\"value\">0,0000</strong>,\n",
       " <strong class=\"value v-align-middle\">1.187,05%</strong>,\n",
       " <strong class=\"value\">519.508.000</strong>,\n",
       " <strong class=\"value\">8.451.722.000</strong>,\n",
       " <strong class=\"value\">2.792.056.000</strong>,\n",
       " <strong class=\"value\">5.244.942.000</strong>,\n",
       " <strong class=\"value\">1.083.410.000</strong>,\n",
       " <strong class=\"value\">4.161.532.000</strong>,\n",
       " <strong class=\"value\">-</strong>,\n",
       " <strong class=\"value\">-</strong>,\n",
       " <strong class=\"value\">132.520.587</strong>,\n",
       " <strong class=\"value\"></strong>,\n",
       " <strong class=\"value\">4,82%</strong>,\n",
       " <strong class=\"value\"> </strong>,\n",
       " <strong class=\"value\">Utilidade Pública</strong>,\n",
       " <strong class=\"value\">Gás</strong>,\n",
       " <strong class=\"value\">Gás</strong>,\n",
       " <strong>até</strong>]"
      ]
     },
     "execution_count": 38,
     "metadata": {},
     "output_type": "execute_result"
    }
   ],
   "source": [
    "### exibindo alguns dados da pagina \n",
    "table"
   ]
  },
  {
   "cell_type": "code",
   "execution_count": 39,
   "metadata": {},
   "outputs": [],
   "source": [
    "#### obtendo a tabela de dividendos desta pagina\n",
    "table = cont.find(name='table')"
   ]
  },
  {
   "cell_type": "code",
   "execution_count": 40,
   "metadata": {},
   "outputs": [],
   "source": [
    "### transformação a variavel table em uma string, e utilizar metodo do pandas read_html para ler o html da pagina\n",
    "tabela = str(table)\n",
    "df = pd.read_html(tabela)[0]"
   ]
  },
  {
   "cell_type": "code",
   "execution_count": 42,
   "metadata": {},
   "outputs": [
    {
     "data": {
      "text/html": [
       "<div>\n",
       "<style scoped>\n",
       "    .dataframe tbody tr th:only-of-type {\n",
       "        vertical-align: middle;\n",
       "    }\n",
       "\n",
       "    .dataframe tbody tr th {\n",
       "        vertical-align: top;\n",
       "    }\n",
       "\n",
       "    .dataframe thead th {\n",
       "        text-align: right;\n",
       "    }\n",
       "</style>\n",
       "<table border=\"1\" class=\"dataframe\">\n",
       "  <thead>\n",
       "    <tr style=\"text-align: right;\">\n",
       "      <th></th>\n",
       "      <th>Tipo</th>\n",
       "      <th>Data com</th>\n",
       "      <th>Pagamento</th>\n",
       "      <th>Valor</th>\n",
       "    </tr>\n",
       "  </thead>\n",
       "  <tbody>\n",
       "    <tr>\n",
       "      <th>0</th>\n",
       "      <td>Dividendo</td>\n",
       "      <td>31/01/2020</td>\n",
       "      <td>10/02/2020</td>\n",
       "      <td>110423103</td>\n",
       "    </tr>\n",
       "    <tr>\n",
       "      <th>1</th>\n",
       "      <td>Dividendo</td>\n",
       "      <td>09/12/2019</td>\n",
       "      <td>27/12/2019</td>\n",
       "      <td>1490955279</td>\n",
       "    </tr>\n",
       "    <tr>\n",
       "      <th>2</th>\n",
       "      <td>Jcp</td>\n",
       "      <td>09/12/2019</td>\n",
       "      <td>27/12/2019</td>\n",
       "      <td>134023674</td>\n",
       "    </tr>\n",
       "    <tr>\n",
       "      <th>3</th>\n",
       "      <td>Jcp</td>\n",
       "      <td>04/01/2019</td>\n",
       "      <td>17/01/2019</td>\n",
       "      <td>8579529</td>\n",
       "    </tr>\n",
       "    <tr>\n",
       "      <th>4</th>\n",
       "      <td>Jcp</td>\n",
       "      <td>05/12/2018</td>\n",
       "      <td>18/12/2018</td>\n",
       "      <td>106900000</td>\n",
       "    </tr>\n",
       "    <tr>\n",
       "      <th>5</th>\n",
       "      <td>Dividendo</td>\n",
       "      <td>09/11/2018</td>\n",
       "      <td>23/11/2018</td>\n",
       "      <td>372410000</td>\n",
       "    </tr>\n",
       "    <tr>\n",
       "      <th>6</th>\n",
       "      <td>Jcp</td>\n",
       "      <td>26/12/2017</td>\n",
       "      <td>08/01/2018</td>\n",
       "      <td>140100000</td>\n",
       "    </tr>\n",
       "    <tr>\n",
       "      <th>7</th>\n",
       "      <td>Dividendo</td>\n",
       "      <td>10/11/2017</td>\n",
       "      <td>23/11/2017</td>\n",
       "      <td>579600000</td>\n",
       "    </tr>\n",
       "    <tr>\n",
       "      <th>8</th>\n",
       "      <td>Dividendo</td>\n",
       "      <td>20/02/2017</td>\n",
       "      <td>03/03/2017</td>\n",
       "      <td>338290000</td>\n",
       "    </tr>\n",
       "    <tr>\n",
       "      <th>9</th>\n",
       "      <td>Jcp</td>\n",
       "      <td>20/12/2016</td>\n",
       "      <td>29/12/2016</td>\n",
       "      <td>140050000</td>\n",
       "    </tr>\n",
       "    <tr>\n",
       "      <th>10</th>\n",
       "      <td>Dividendo</td>\n",
       "      <td>18/02/2016</td>\n",
       "      <td>26/02/2016</td>\n",
       "      <td>1041900000</td>\n",
       "    </tr>\n",
       "    <tr>\n",
       "      <th>11</th>\n",
       "      <td>Jcp</td>\n",
       "      <td>17/12/2015</td>\n",
       "      <td>29/12/2015</td>\n",
       "      <td>158770000</td>\n",
       "    </tr>\n",
       "  </tbody>\n",
       "</table>\n",
       "</div>"
      ],
      "text/plain": [
       "         Tipo    Data com   Pagamento       Valor\n",
       "0   Dividendo  31/01/2020  10/02/2020   110423103\n",
       "1   Dividendo  09/12/2019  27/12/2019  1490955279\n",
       "2         Jcp  09/12/2019  27/12/2019   134023674\n",
       "3         Jcp  04/01/2019  17/01/2019     8579529\n",
       "4         Jcp  05/12/2018  18/12/2018   106900000\n",
       "5   Dividendo  09/11/2018  23/11/2018   372410000\n",
       "6         Jcp  26/12/2017  08/01/2018   140100000\n",
       "7   Dividendo  10/11/2017  23/11/2017   579600000\n",
       "8   Dividendo  20/02/2017  03/03/2017   338290000\n",
       "9         Jcp  20/12/2016  29/12/2016   140050000\n",
       "10  Dividendo  18/02/2016  26/02/2016  1041900000\n",
       "11        Jcp  17/12/2015  29/12/2015   158770000"
      ]
     },
     "execution_count": 42,
     "metadata": {},
     "output_type": "execute_result"
    }
   ],
   "source": [
    "#exibe os dividendos da CGAS5 - COMGAS\n",
    "df"
   ]
  },
  {
   "cell_type": "code",
   "execution_count": null,
   "metadata": {},
   "outputs": [],
   "source": []
  }
 ],
 "metadata": {
  "kernelspec": {
   "display_name": "Python 3",
   "language": "python",
   "name": "python3"
  },
  "language_info": {
   "codemirror_mode": {
    "name": "ipython",
    "version": 3
   },
   "file_extension": ".py",
   "mimetype": "text/x-python",
   "name": "python",
   "nbconvert_exporter": "python",
   "pygments_lexer": "ipython3",
   "version": "3.6.5"
  }
 },
 "nbformat": 4,
 "nbformat_minor": 2
}
